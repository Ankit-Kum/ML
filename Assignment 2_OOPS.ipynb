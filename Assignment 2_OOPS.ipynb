{
 "cells": [
  {
   "cell_type": "code",
   "execution_count": 27,
   "metadata": {},
   "outputs": [
    {
     "name": "stdout",
     "output_type": "stream",
     "text": [
      "its a class A\n",
      "its a class B\n"
     ]
    }
   ],
   "source": [
    "class A():\n",
    "    def test(self):\n",
    "        print(\"its a class A\") \n",
    "class B():\n",
    "    def test(self):\n",
    "        print(\"its a class B\") \n",
    "        \n",
    "class C(A ,B):\n",
    "    def test(self):\n",
    "        A.test(self)\n",
    "        B.test(self)\n",
    "      \n",
    "pc = C()\n",
    "pc.test()"
   ]
  },
  {
   "cell_type": "code",
   "execution_count": null,
   "metadata": {},
   "outputs": [],
   "source": []
  }
 ],
 "metadata": {
  "kernelspec": {
   "display_name": "Python 3",
   "language": "python",
   "name": "python3"
  },
  "language_info": {
   "codemirror_mode": {
    "name": "ipython",
    "version": 3
   },
   "file_extension": ".py",
   "mimetype": "text/x-python",
   "name": "python",
   "nbconvert_exporter": "python",
   "pygments_lexer": "ipython3",
   "version": "3.7.4"
  }
 },
 "nbformat": 4,
 "nbformat_minor": 2
}
